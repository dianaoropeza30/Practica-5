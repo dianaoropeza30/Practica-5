{
  "metadata": {
    "kernelspec": {
      "name": "python",
      "display_name": "Python (Pyodide)",
      "language": "python"
    },
    "language_info": {
      "codemirror_mode": {
        "name": "python",
        "version": 3
      },
      "file_extension": ".py",
      "mimetype": "text/x-python",
      "name": "python",
      "nbconvert_exporter": "python",
      "pygments_lexer": "ipython3",
      "version": "3.8"
    }
  },
  "nbformat_minor": 5,
  "nbformat": 4,
  "cells": [
    {
      "cell_type": "code",
      "source": "from math import *\nimport numpy as np\nimport matplotlib . pyplot as plt\nimport pandas as pd\n\n\nx = np.array ([0,1,2,3])\nf=np.array([1,e,e**2,e**3])\nFP0=1\nFPN=e**3\nni=(x.size)\nn=ni-1\nA= np.zeros (ni)\na=np.zeros(n)\nA[:]= f\n\n#comienzo del metodo\nh=np.zeros(n)\nfor i in range(0,n):\n  h[i]=x[i+1]-x[i]\n\na[0]=3*(A[1]-A[0])/h[0]-3*FP0\na[n-1]=3*FPN-3*(A[n]-A[n-1])/h[n-1]\n\n\nfor j in range(1,n-1):\n  a[j]=(3/h[j])*(A[j+1]-A[j])-(3/h[j-1])*(A[j]-A[j-1])\n\n\nl=np.zeros(n)\nmu=np.zeros(n)\nz=np.zeros(n)\nl[0]=2*h[0]\nmu[0]=0.5\nz[0]=a[0]/l[0]\nfor k in range(1,n-1):\n  l[k]=2*(x[k+1]-x[k-1])-h[k-1]*mu[k-1]\n  mu[k]=h[k]/l[k]\n  z[k]=(a[k]-h[k-1]*z[k-1])/l[k]\n\nl[n-1]=h[n-1]*(2-mu[n-1])\nz[n-1]=(a[n-1]-h[n-1]*z[n-2])/l[n-1]\n\n\nc=np.zeros(ni)\nb=np.zeros(n)\nd=np.zeros(n)\nc[n-1]=z[n-1]\nc[0]=0.44468\nc[1]=1.26548\nc[2]=3.35087\nc[3]=9.40815\nfor k in range(n-2,-1,-1):\n  c[k]=z[k]-mu[k]*c[k+1]\nfor t in range(0,n):\n  b[t]=(A[t+1]-A[t])/h[t]-(h[t]*(c[t+1]+2*c[t]))/3\n  d[t]=(c[t+1]-c[t])/(3*h[t])\n\n\n\nprint(\"Sea el spline cubico condicionado descrito por tramos, S(x):\")\nfor i in range(0,n):\n  print(\"\\n\",A[i],'+',b[i],'(x-',x[i],')+',c[i],'(x-',x[i],')^2+',d[i],'(x-',x[i],')^3, si  ',x[i],'<= x <',x[i+1])\n",
      "metadata": {
        "trusted": true
      },
      "execution_count": 2,
      "outputs": [
        {
          "name": "stdout",
          "text": "Sea el spline cubico condicionado descrito por tramos, S(x):\n\n 1.0 + 0.9999999999999999 (x- 0 )+ 0.44468208792440955 (x- 0 )^2+ 0.2735997405346357 (x- 0 )^3, si   0 <= x < 1\n\n 2.718281828459045 + 2.7101633974527264 (x- 1 )+ 1.2654813095283166 (x- 1 )^2+ 0.6951295634905611 (x- 1 )^3, si   1 <= x < 2\n\n 7.3890560989306495 + 7.326517490923682 (x- 2 )+ 3.35087 (x- 2 )^2+ 2.0190933333333327 (x- 2 )^3, si   2 <= x < 3\n",
          "output_type": "stream"
        }
      ],
      "id": "4d461bf5-e713-435b-82a3-88c6ecca05fe"
    }
  ]
}