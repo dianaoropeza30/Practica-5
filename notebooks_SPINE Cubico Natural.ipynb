{
  "metadata": {
    "kernelspec": {
      "name": "python",
      "display_name": "Python (Pyodide)",
      "language": "python"
    },
    "language_info": {
      "codemirror_mode": {
        "name": "python",
        "version": 3
      },
      "file_extension": ".py",
      "mimetype": "text/x-python",
      "name": "python",
      "nbconvert_exporter": "python",
      "pygments_lexer": "ipython3",
      "version": "3.8"
    }
  },
  "nbformat_minor": 5,
  "nbformat": 4,
  "cells": [
    {
      "cell_type": "code",
      "source": "import matplotlib.pyplot as plt\nimport pandas as pd\nfrom math import *\nimport numpy as np\n\nx=[0,1,2,3]\ny=[1,np.exp(1),np.exp(2),np.exp(3)]\na=y\nl=[]\nu=[]\nz=[]\nh=[]\nA=[]\nc=[]\nb=[]\nd=[]\nfor i in range(0,len(x)-1):\n l.append(0)\n u.append(0)\n z.append(0)\n h.append(0)\n A.append(0)\n c.append(0)\n b.append(0)\n d.append(0)\n\ni=1\nfor i in range(0,len(x)-1):\n  h[i]= x[i+1]-x[i]\n \nfor i in range(1,len(x)-1):\n  A[i]= (3/h[i])*(a[i+1]-a[i]) - (3/h[i-1])*(a[i]-a[i-1])\n\nl[0]=1\nu[0]=0\nz[0]=0\n\nfor i in range(1,len(x)-1):\n  l[i]=2*( x[i+1]-x[i-1]) - (h[i-1] )*(u[i-1])\n  u[i]=(h[i] )/l[i]\n  z[i]=(A[i]- (h[i-1])*(z[i-1]) )/l[i]\n#Paso 5\nl.append(1)\nz.append(0)\nc.append(0)\n\nj= len(x)-2\n\nwhile (j>=0) :\n  c[j]=z[j] - (u[j])*(c[j+1])\n  b[j]=(a[j+1] - a[j])/h[j] - (h[j])*(c[j+1] + 2*c[j])/3\n  d[j]=(c[j+1] - c[j])/(3*h[j])\n  j=j-1\na.pop()\nc.pop()\nprint( \"Coeficientes de las funciones que interpolan f(x)\")\ndf = pd.DataFrame()\ndf[\"aj\"]=a\ndf[\"bj\"]=b\ndf[\"cj\"]=c\ndf[\"dj\"]=d\nprint(df)",
      "metadata": {
        "trusted": true
      },
      "execution_count": 4,
      "outputs": [
        {
          "name": "stdout",
          "text": "Coeficientes de las funciones que interpolan f(x)\n         aj        bj        cj        dj\n0  1.000000  1.465998  0.000000  0.252284\n1  2.718282  2.222850  0.756853  1.691071\n2  7.389056  8.809770  5.830067 -1.943356\n",
          "output_type": "stream"
        }
      ],
      "id": "0e7848df-80af-40cd-ab92-4bd22301010b"
    },
    {
      "cell_type": "code",
      "source": "",
      "metadata": {},
      "execution_count": null,
      "outputs": [],
      "id": "061f95a7-3260-4b82-9f8c-6a461ab30373"
    }
  ]
}